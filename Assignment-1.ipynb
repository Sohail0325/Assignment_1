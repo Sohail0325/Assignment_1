{
 "cells": [
  {
   "cell_type": "code",
   "execution_count": 1,
   "id": "b5f976f7-1f41-4c96-99a8-8037510a2f16",
   "metadata": {},
   "outputs": [],
   "source": [
    "#First Assignment"
   ]
  },
  {
   "cell_type": "raw",
   "id": "c98e3193-a84d-4686-adfb-d033b59c22be",
   "metadata": {},
   "source": [
    "1.explain the key features of that make it a popular choice for programming?"
   ]
  },
  {
   "cell_type": "raw",
   "id": "2d23375d-4891-45b0-9bba-b70e318d795a",
   "metadata": {},
   "source": [
    "-in python we can easily understand the code\n",
    "-in python programming there are lot of libraries are they to explore\n",
    "-readability,versatality,and Simplicity\n",
    "-having standard libraries of 137000\n",
    "- Python's standard library includes a vast collection of modules that provide functionalities for various tasks"
   ]
  },
  {
   "cell_type": "raw",
   "id": "d26f46cd-1cad-4021-9978-e4ab190985f7",
   "metadata": {},
   "source": [
    "2.Describe the role of predefined keywords in Python and provide examples of how they are used in a programme"
   ]
  },
  {
   "cell_type": "code",
   "execution_count": 2,
   "id": "ed751609-0c75-4161-a4ee-b698b82d21f5",
   "metadata": {},
   "outputs": [
    {
     "data": {
      "text/plain": [
       "int"
      ]
     },
     "execution_count": 2,
     "metadata": {},
     "output_type": "execute_result"
    }
   ],
   "source": [
    "#integer type\n",
    "a = 2\n",
    "type(a)"
   ]
  },
  {
   "cell_type": "code",
   "execution_count": 3,
   "id": "5680de60-cde9-4eb4-9c41-1d270ad7863c",
   "metadata": {},
   "outputs": [
    {
     "data": {
      "text/plain": [
       "float"
      ]
     },
     "execution_count": 3,
     "metadata": {},
     "output_type": "execute_result"
    }
   ],
   "source": [
    "#float type\n",
    "b = 3.465\n",
    "type(b)"
   ]
  },
  {
   "cell_type": "code",
   "execution_count": 4,
   "id": "9fa29f8a-0d08-4e22-9f67-d89ab8f1976f",
   "metadata": {},
   "outputs": [
    {
     "data": {
      "text/plain": [
       "str"
      ]
     },
     "execution_count": 4,
     "metadata": {},
     "output_type": "execute_result"
    }
   ],
   "source": [
    "#string\n",
    "c = \"Sohail\"\n",
    "type(c)"
   ]
  },
  {
   "cell_type": "code",
   "execution_count": 5,
   "id": "4fd1b523-389a-4b8b-9b9f-6a3e7225f6c5",
   "metadata": {},
   "outputs": [
    {
     "data": {
      "text/plain": [
       "True"
      ]
     },
     "execution_count": 5,
     "metadata": {},
     "output_type": "execute_result"
    }
   ],
   "source": [
    "#boolean\n",
    "bool(1)"
   ]
  },
  {
   "cell_type": "code",
   "execution_count": 6,
   "id": "8f16b68e-4633-4eb9-acbb-163e104e2766",
   "metadata": {},
   "outputs": [
    {
     "data": {
      "text/plain": [
       "False"
      ]
     },
     "execution_count": 6,
     "metadata": {},
     "output_type": "execute_result"
    }
   ],
   "source": [
    "bool(0)"
   ]
  },
  {
   "cell_type": "raw",
   "id": "1726a4ac-3def-4528-8397-26b415848932",
   "metadata": {},
   "source": [
    "here some are the predefined keywords in python\n",
    "false, true, break, continue, if, ifelse, eiif, nestedif"
   ]
  },
  {
   "cell_type": "raw",
   "id": "2e2e1ee7-d003-4507-ae91-a92654e5f95c",
   "metadata": {},
   "source": [
    "3.compare and contrast mutable and immutable objects in python with examples"
   ]
  },
  {
   "cell_type": "code",
   "execution_count": 11,
   "id": "020cdaef-ea34-493d-842e-077fba409fc5",
   "metadata": {},
   "outputs": [
    {
     "data": {
      "text/plain": [
       "'sohail'"
      ]
     },
     "execution_count": 11,
     "metadata": {},
     "output_type": "execute_result"
    }
   ],
   "source": [
    "#mutability\n",
    "#if you can edit something or change the element in a list\n",
    "list_cont=[1, 2, 3.14, \"sohail\"]\n",
    "list_cont[3]"
   ]
  },
  {
   "cell_type": "code",
   "execution_count": 13,
   "id": "2888df77-822e-4893-84cd-3ff172ad61a0",
   "metadata": {},
   "outputs": [],
   "source": [
    "list_cont[3] = \"sathish\""
   ]
  },
  {
   "cell_type": "code",
   "execution_count": 14,
   "id": "bcd780f8-7311-4f47-a3fe-d5df9f5974fe",
   "metadata": {},
   "outputs": [
    {
     "data": {
      "text/plain": [
       "[1, 2, 3.14, 'sathish']"
      ]
     },
     "execution_count": 14,
     "metadata": {},
     "output_type": "execute_result"
    }
   ],
   "source": [
    "list_cont"
   ]
  },
  {
   "cell_type": "code",
   "execution_count": 15,
   "id": "1e4f2888-d3e3-441b-982d-a9f6e55ffe72",
   "metadata": {},
   "outputs": [
    {
     "data": {
      "text/plain": [
       "str"
      ]
     },
     "execution_count": 15,
     "metadata": {},
     "output_type": "execute_result"
    }
   ],
   "source": [
    "#immutability\n",
    "#cannot change the elements in a specific string\n",
    "a = \"computer\"\n",
    "type(a)"
   ]
  },
  {
   "cell_type": "code",
   "execution_count": 16,
   "id": "cf13fac1-748c-466b-ac1a-17c588612708",
   "metadata": {},
   "outputs": [
    {
     "data": {
      "text/plain": [
       "'o'"
      ]
     },
     "execution_count": 16,
     "metadata": {},
     "output_type": "execute_result"
    }
   ],
   "source": [
    "a[1]"
   ]
  },
  {
   "cell_type": "code",
   "execution_count": 17,
   "id": "7dfdb76a-b047-4726-bbd3-e80f664043c1",
   "metadata": {},
   "outputs": [
    {
     "ename": "TypeError",
     "evalue": "'str' object does not support item assignment",
     "output_type": "error",
     "traceback": [
      "\u001b[0;31m---------------------------------------------------------------------------\u001b[0m",
      "\u001b[0;31mTypeError\u001b[0m                                 Traceback (most recent call last)",
      "Cell \u001b[0;32mIn[17], line 1\u001b[0m\n\u001b[0;32m----> 1\u001b[0m \u001b[43ma\u001b[49m\u001b[43m[\u001b[49m\u001b[38;5;241;43m1\u001b[39;49m\u001b[43m]\u001b[49m \u001b[38;5;241m=\u001b[39m \u001b[38;5;124m\"\u001b[39m\u001b[38;5;124mpen\u001b[39m\u001b[38;5;124m\"\u001b[39m\n",
      "\u001b[0;31mTypeError\u001b[0m: 'str' object does not support item assignment"
     ]
    }
   ],
   "source": [
    "a[1] = \"pen\""
   ]
  },
  {
   "cell_type": "raw",
   "id": "ae4908ca-8c19-4277-9897-14b6863ede9a",
   "metadata": {},
   "source": [
    "4.Discuss the different types of operators in Python and provide examples of how they are used"
   ]
  },
  {
   "cell_type": "code",
   "execution_count": 18,
   "id": "c327e3ab-fea6-4deb-993a-f32747586b86",
   "metadata": {},
   "outputs": [
    {
     "data": {
      "text/plain": [
       "6"
      ]
     },
     "execution_count": 18,
     "metadata": {},
     "output_type": "execute_result"
    }
   ],
   "source": [
    " Here some of the operators defined\n",
    "#arithmatic operators\n",
    "#addition\n",
    "a = 2\n",
    "b = 4\n",
    "a+b"
   ]
  },
  {
   "cell_type": "code",
   "execution_count": 19,
   "id": "bd2da72c-344e-43fd-aca5-f69eca8e68c2",
   "metadata": {},
   "outputs": [
    {
     "data": {
      "text/plain": [
       "-1"
      ]
     },
     "execution_count": 19,
     "metadata": {},
     "output_type": "execute_result"
    }
   ],
   "source": [
    "#Substraction\n",
    "a = 3\n",
    "b = 4\n",
    "a-b"
   ]
  },
  {
   "cell_type": "code",
   "execution_count": 20,
   "id": "0b2b1e38-78e8-48c6-b19b-80ec2edac0d4",
   "metadata": {},
   "outputs": [
    {
     "data": {
      "text/plain": [
       "6"
      ]
     },
     "execution_count": 20,
     "metadata": {},
     "output_type": "execute_result"
    }
   ],
   "source": [
    "#multiplication\n",
    "a = 2\n",
    "b = 3\n",
    "a*b"
   ]
  },
  {
   "cell_type": "code",
   "execution_count": 23,
   "id": "6533e315-27c2-49eb-9d10-70c61553ca5e",
   "metadata": {},
   "outputs": [
    {
     "data": {
      "text/plain": [
       "3"
      ]
     },
     "execution_count": 23,
     "metadata": {},
     "output_type": "execute_result"
    }
   ],
   "source": [
    "#modulus \n",
    "a = 3\n",
    "b = 5\n",
    "a%b"
   ]
  },
  {
   "cell_type": "code",
   "execution_count": 24,
   "id": "bf539bdd-35df-4299-9022-c8af7bd7fb3b",
   "metadata": {},
   "outputs": [
    {
     "data": {
      "text/plain": [
       "True"
      ]
     },
     "execution_count": 24,
     "metadata": {},
     "output_type": "execute_result"
    }
   ],
   "source": [
    "#comparision operator\n",
    "2 == 2"
   ]
  },
  {
   "cell_type": "code",
   "execution_count": 25,
   "id": "6393b933-8017-42d8-9617-b56c2785f875",
   "metadata": {},
   "outputs": [
    {
     "data": {
      "text/plain": [
       "False"
      ]
     },
     "execution_count": 25,
     "metadata": {},
     "output_type": "execute_result"
    }
   ],
   "source": [
    "2 != 2"
   ]
  },
  {
   "cell_type": "code",
   "execution_count": 26,
   "id": "04b73531-d476-4292-9275-bd1f32285bc3",
   "metadata": {},
   "outputs": [
    {
     "data": {
      "text/plain": [
       "True"
      ]
     },
     "execution_count": 26,
     "metadata": {},
     "output_type": "execute_result"
    }
   ],
   "source": [
    "10 > 2"
   ]
  },
  {
   "cell_type": "code",
   "execution_count": 28,
   "id": "13df5c50-0e49-41ef-84e5-f4769eb3f076",
   "metadata": {},
   "outputs": [
    {
     "data": {
      "text/plain": [
       "False"
      ]
     },
     "execution_count": 28,
     "metadata": {},
     "output_type": "execute_result"
    }
   ],
   "source": [
    "55 < 54"
   ]
  },
  {
   "cell_type": "code",
   "execution_count": 30,
   "id": "a48194da-aade-41cd-941e-7f383876e3ab",
   "metadata": {},
   "outputs": [
    {
     "data": {
      "text/plain": [
       "True"
      ]
     },
     "execution_count": 30,
     "metadata": {},
     "output_type": "execute_result"
    }
   ],
   "source": [
    "#logical operators\n",
    "#and \n",
    "#or\n",
    "True and True"
   ]
  },
  {
   "cell_type": "code",
   "execution_count": 31,
   "id": "9e52cbfc-2f87-47c8-98ef-ff50adb4147a",
   "metadata": {},
   "outputs": [
    {
     "data": {
      "text/plain": [
       "0"
      ]
     },
     "execution_count": 31,
     "metadata": {},
     "output_type": "execute_result"
    }
   ],
   "source": [
    "True - True"
   ]
  },
  {
   "cell_type": "code",
   "execution_count": 32,
   "id": "ae9e83f9-aee2-48be-a866-049d3b6b6779",
   "metadata": {},
   "outputs": [
    {
     "data": {
      "text/plain": [
       "1"
      ]
     },
     "execution_count": 32,
     "metadata": {},
     "output_type": "execute_result"
    }
   ],
   "source": [
    "True - False"
   ]
  },
  {
   "cell_type": "code",
   "execution_count": 33,
   "id": "8a44f2cc-2210-4232-a91d-80a52683700d",
   "metadata": {},
   "outputs": [
    {
     "data": {
      "text/plain": [
       "True"
      ]
     },
     "execution_count": 33,
     "metadata": {},
     "output_type": "execute_result"
    }
   ],
   "source": [
    "True or True"
   ]
  },
  {
   "cell_type": "code",
   "execution_count": 34,
   "id": "7e7617bb-e4e3-4bc2-9203-ceac4d840c96",
   "metadata": {},
   "outputs": [
    {
     "data": {
      "text/plain": [
       "True"
      ]
     },
     "execution_count": 34,
     "metadata": {},
     "output_type": "execute_result"
    }
   ],
   "source": [
    "False or True"
   ]
  },
  {
   "cell_type": "code",
   "execution_count": 35,
   "id": "223dfb07-6bea-477f-a61a-a02035724bf7",
   "metadata": {},
   "outputs": [
    {
     "data": {
      "text/plain": [
       "False"
      ]
     },
     "execution_count": 35,
     "metadata": {},
     "output_type": "execute_result"
    }
   ],
   "source": [
    "#identify operators\n",
    "a = 2\n",
    "b = 3\n",
    "a is b"
   ]
  },
  {
   "cell_type": "code",
   "execution_count": 36,
   "id": "721aa7ac-d296-40d9-ab8a-9eb90a02300a",
   "metadata": {},
   "outputs": [
    {
     "data": {
      "text/plain": [
       "True"
      ]
     },
     "execution_count": 36,
     "metadata": {},
     "output_type": "execute_result"
    }
   ],
   "source": [
    "a is not b"
   ]
  },
  {
   "cell_type": "raw",
   "id": "bc737d10-8c04-450b-acb3-583c88671e0b",
   "metadata": {},
   "source": [
    "5.explain the concept of type casting in Python with examples"
   ]
  },
  {
   "cell_type": "code",
   "execution_count": 37,
   "id": "a38a1fd3-0001-459a-b9db-51eaebceb40a",
   "metadata": {},
   "outputs": [
    {
     "data": {
      "text/plain": [
       "float"
      ]
     },
     "execution_count": 37,
     "metadata": {},
     "output_type": "execute_result"
    }
   ],
   "source": [
    "#type casting is a process of converting one data type in another as you required\n",
    "#float to int\n",
    "a = 3.4\n",
    "type(a)"
   ]
  },
  {
   "cell_type": "code",
   "execution_count": 38,
   "id": "252e45a2-860f-4b3b-881c-46c994b11323",
   "metadata": {},
   "outputs": [
    {
     "data": {
      "text/plain": [
       "3"
      ]
     },
     "execution_count": 38,
     "metadata": {},
     "output_type": "execute_result"
    }
   ],
   "source": [
    "int(a)"
   ]
  },
  {
   "cell_type": "code",
   "execution_count": 39,
   "id": "15caa75f-e687-45bd-b4b1-c0bde4b5865b",
   "metadata": {},
   "outputs": [
    {
     "data": {
      "text/plain": [
       "int"
      ]
     },
     "execution_count": 39,
     "metadata": {},
     "output_type": "execute_result"
    }
   ],
   "source": [
    "#int to float\n",
    "a = 3\n",
    "type(a)"
   ]
  },
  {
   "cell_type": "code",
   "execution_count": 40,
   "id": "42326c20-9262-4704-8486-0b0d6580d500",
   "metadata": {},
   "outputs": [
    {
     "data": {
      "text/plain": [
       "3.0"
      ]
     },
     "execution_count": 40,
     "metadata": {},
     "output_type": "execute_result"
    }
   ],
   "source": [
    "float(a)"
   ]
  },
  {
   "cell_type": "code",
   "execution_count": 41,
   "id": "1e404c5f-9182-45e0-953b-a2190fcbb656",
   "metadata": {},
   "outputs": [
    {
     "data": {
      "text/plain": [
       "str"
      ]
     },
     "execution_count": 41,
     "metadata": {},
     "output_type": "execute_result"
    }
   ],
   "source": [
    "#str to int\n",
    "a = \"325\"\n",
    "type(a)"
   ]
  },
  {
   "cell_type": "code",
   "execution_count": 42,
   "id": "e08b0dbe-91e4-4538-8710-643da8aeddb5",
   "metadata": {},
   "outputs": [
    {
     "data": {
      "text/plain": [
       "325"
      ]
     },
     "execution_count": 42,
     "metadata": {},
     "output_type": "execute_result"
    }
   ],
   "source": [
    "int(a)"
   ]
  },
  {
   "cell_type": "raw",
   "id": "ae2e2ebc-5636-4434-a7a8-b67e47672952",
   "metadata": {},
   "source": [
    "6. How do conditional statements work in Python? Illust$ate with examples"
   ]
  },
  {
   "cell_type": "code",
   "execution_count": 45,
   "id": "2e24c146-cd79-48ee-acdf-dd037342247a",
   "metadata": {},
   "outputs": [
    {
     "name": "stdout",
     "output_type": "stream",
     "text": [
      "the num is greater than 10\n"
     ]
    }
   ],
   "source": [
    "#there are four types\n",
    "#if statements\n",
    "a = 20\n",
    "if a > 10:\n",
    "    print(\"the num is greater than 10\")"
   ]
  },
  {
   "cell_type": "code",
   "execution_count": 52,
   "id": "6a2fbd02-8704-4599-8a8e-742007456716",
   "metadata": {},
   "outputs": [
    {
     "name": "stdout",
     "output_type": "stream",
     "text": [
      "You are an adult\n"
     ]
    }
   ],
   "source": [
    "#if-else\n",
    "age = 25\n",
    "\n",
    "if age >= 18:\n",
    "    print(\"You are an adult\")\n",
    "else:\n",
    "    print(\"You are a minor\")"
   ]
  },
  {
   "cell_type": "code",
   "execution_count": 48,
   "id": "2f6c4fba-25a5-4017-9464-c72c668db6ca",
   "metadata": {},
   "outputs": [
    {
     "name": "stdout",
     "output_type": "stream",
     "text": [
      "Excellent!\n"
     ]
    }
   ],
   "source": [
    "#if-elif-else\n",
    "grade = 90\n",
    "\n",
    "if grade >= 90:\n",
    "    print(\"Excellent!\")\n",
    "elif grade >= 80:\n",
    "    print(\"Good job!\")\n",
    "else:\n",
    "    print(\"Needs improvement.\")"
   ]
  },
  {
   "cell_type": "code",
   "execution_count": null,
   "id": "1ab662e7-4a39-497a-8514-69c1a01d3622",
   "metadata": {},
   "outputs": [],
   "source": [
    "#nested if-else\n",
    "age = 25\n",
    "country = \"India\"\n",
    "\n",
    "if age >= 18:\n",
    "    if country == \"India\":\n",
    "        print(\"You can vote in India.\")\n",
    "    else:\n",
    "        print(\"Voting eligibility depends on your country's laws.\")\n",
    "else:\n",
    "    print(\"You are too young to vote.\")"
   ]
  },
  {
   "cell_type": "raw",
   "id": "7ee6b4c0-5d1c-4709-beeb-3ed444a619b1",
   "metadata": {},
   "source": [
    "7. Descsibe the different types of loops in Python and their use cases with examples."
   ]
  },
  {
   "cell_type": "code",
   "execution_count": 53,
   "id": "546b1b35-6a9e-4cf3-8d79-49ca43545a01",
   "metadata": {},
   "outputs": [
    {
     "name": "stdout",
     "output_type": "stream",
     "text": [
      "Count: 0\n",
      "Count: 1\n",
      "Count: 2\n",
      "Count: 3\n",
      "Count: 4\n"
     ]
    }
   ],
   "source": [
    "#loops are\n",
    "#while loop\n",
    "#for loop\n",
    "count = 0\n",
    "\n",
    "while count < 5:\n",
    "    print(\"Count:\", count)\n",
    "    count += 1"
   ]
  },
  {
   "cell_type": "code",
   "execution_count": 54,
   "id": "9a63cc2f-3a14-4679-a4df-7d8cab3233c6",
   "metadata": {},
   "outputs": [
    {
     "name": "stdout",
     "output_type": "stream",
     "text": [
      "apple\n",
      "banana\n",
      "orange\n"
     ]
    }
   ],
   "source": [
    "#for loops\n",
    "fruits = [\"apple\", \"banana\", \"orange\"]\n",
    "\n",
    "for fruit in fruits:\n",
    "    print(fruit)"
   ]
  },
  {
   "cell_type": "raw",
   "id": "7cf3d580-2808-49ea-bc2d-4c177177f6d7",
   "metadata": {},
   "source": [
    "this is the assignment-1 i have written 7 question and answers"
   ]
  }
 ],
 "metadata": {
  "kernelspec": {
   "display_name": "Python 3 (ipykernel)",
   "language": "python",
   "name": "python3"
  },
  "language_info": {
   "codemirror_mode": {
    "name": "ipython",
    "version": 3
   },
   "file_extension": ".py",
   "mimetype": "text/x-python",
   "name": "python",
   "nbconvert_exporter": "python",
   "pygments_lexer": "ipython3",
   "version": "3.10.8"
  }
 },
 "nbformat": 4,
 "nbformat_minor": 5
}
